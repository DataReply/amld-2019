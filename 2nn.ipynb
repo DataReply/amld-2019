{
 "cells": [
  {
   "cell_type": "markdown",
   "metadata": {
    "slideshow": {
     "slide_type": "slide"
    }
   },
   "source": [
    "# Introduction to Neural Networks\n",
    "\n",
    "### Designed by: Elizaveta Semenova\n",
    "### Speaker: Maria Han Veiga"
   ]
  },
  {
   "cell_type": "markdown",
   "metadata": {
    "slideshow": {
     "slide_type": "slide"
    }
   },
   "source": [
    "### <span style=\"color:coral\">NumPy</span>\n",
    "\n",
    "Neural Nets require a lot of matrix operations. NumPy allows to work with tensors efficiently. It is important for us to look at it now also for better understanding of TensorFlow."
   ]
  },
  {
   "cell_type": "markdown",
   "metadata": {
    "slideshow": {
     "slide_type": "slide"
    }
   },
   "source": [
    "**Tensor** is a generalizaion of a matrix, same as a matrix is a generalization of a vector, and a vector is a generalization of a scalar.\n"
   ]
  },
  {
   "cell_type": "markdown",
   "metadata": {
    "slideshow": {
     "slide_type": "fragment"
    }
   },
   "source": [
    "#### Examples:\n",
    "\n",
    "Scalar is **0**-dimensional tensor:\n",
    "$$a = \\begin{pmatrix}a \\end{pmatrix}$$"
   ]
  },
  {
   "cell_type": "markdown",
   "metadata": {
    "slideshow": {
     "slide_type": "fragment"
    }
   },
   "source": [
    "Vector is **1**-dimensional tensor:\n",
    "$$v = \\begin{pmatrix}a \\\\ b \\end{pmatrix}$$"
   ]
  },
  {
   "cell_type": "markdown",
   "metadata": {
    "slideshow": {
     "slide_type": "fragment"
    }
   },
   "source": [
    "Matrix is **2**-dimensional tensor:\n",
    "$$m = \\begin{pmatrix}a & b\\\\\\ c & d\\end{pmatrix}$$"
   ]
  },
  {
   "cell_type": "markdown",
   "metadata": {
    "slideshow": {
     "slide_type": "slide"
    }
   },
   "source": [
    "Tensor is an **n**-dimensional object (as far as we are concerned...).\n",
    "\n",
    "$$t = \\begin{pmatrix} \\begin{pmatrix}a & b\\\\\\ c & d\\end{pmatrix}, \\begin{pmatrix}e & f\\\\\\ g & h\\end{pmatrix}, \\begin{pmatrix}i & j\\\\\\ k & l\\end{pmatrix} \\end{pmatrix}$$\n"
   ]
  },
  {
   "cell_type": "markdown",
   "metadata": {
    "slideshow": {
     "slide_type": "slide"
    }
   },
   "source": [
    "#### Dimentionality\n",
    "is the number of indices which we need to know to extract one number out of a tensor:\n",
    "$$a=a$$\n",
    "\n",
    "$$a=v[1]$$\n",
    "\n",
    "$$a=m[1,1]$$"
   ]
  },
  {
   "cell_type": "markdown",
   "metadata": {
    "slideshow": {
     "slide_type": "slide"
    }
   },
   "source": [
    "In NumPy <span style=\"color:magenta\">ndarray</span> allows us to work with tensors:"
   ]
  },
  {
   "cell_type": "code",
   "execution_count": 4,
   "metadata": {
    "collapsed": false,
    "slideshow": {
     "slide_type": "fragment"
    }
   },
   "outputs": [
    {
     "name": "stdout",
     "output_type": "stream",
     "text": [
      "()\n",
      "(3,)\n",
      "(2, 3)\n",
      "(2, 2, 3)\n"
     ]
    }
   ],
   "source": [
    "import numpy as np\n",
    "a = np.array(1)\n",
    "v = np.array([1,2,3])\n",
    "m = np.array([[1,2,3], [4,5,6]])\n",
    "t = np.array([[[1,2,3],[4,5,6]],[[7,8,9],[10,11,12]]])\n",
    "print(a.shape)\n",
    "print(v.shape)\n",
    "print(m.shape)\n",
    "print(t.shape)\n"
   ]
  },
  {
   "cell_type": "markdown",
   "metadata": {
    "slideshow": {
     "slide_type": "slide"
    }
   },
   "source": [
    "#### NumPy data types \n",
    "\n",
    "are wider than that of Python. \n",
    "\n",
    "For instance, instead of **float** one can opt for **float16**, **float32**, **float64**.\n",
    "\n",
    "More details [here](https://docs.scipy.org/doc/numpy-1.13.0/user/basics.types.html)."
   ]
  },
  {
   "cell_type": "code",
   "execution_count": 5,
   "metadata": {
    "collapsed": false,
    "slideshow": {
     "slide_type": "fragment"
    }
   },
   "outputs": [
    {
     "data": {
      "text/plain": [
       "numpy.int64"
      ]
     },
     "execution_count": 5,
     "metadata": {},
     "output_type": "execute_result"
    }
   ],
   "source": [
    "type(v[0])"
   ]
  },
  {
   "cell_type": "markdown",
   "metadata": {
    "slideshow": {
     "slide_type": "slide"
    }
   },
   "source": [
    "#### Operations in NumPy\n",
    "\n",
    "- addition of a scalar"
   ]
  },
  {
   "cell_type": "code",
   "execution_count": 6,
   "metadata": {
    "collapsed": false,
    "slideshow": {
     "slide_type": "fragment"
    }
   },
   "outputs": [
    {
     "name": "stdout",
     "output_type": "stream",
     "text": [
      "[6 7 8]\n"
     ]
    }
   ],
   "source": [
    "v += 5\n",
    "print(v)"
   ]
  },
  {
   "cell_type": "markdown",
   "metadata": {
    "slideshow": {
     "slide_type": "fragment"
    }
   },
   "source": [
    "- multiplication by a scalar"
   ]
  },
  {
   "cell_type": "code",
   "execution_count": 7,
   "metadata": {
    "collapsed": false,
    "slideshow": {
     "slide_type": "fragment"
    }
   },
   "outputs": [
    {
     "name": "stdout",
     "output_type": "stream",
     "text": [
      "[[0 0 0]\n",
      " [0 0 0]]\n"
     ]
    }
   ],
   "source": [
    "m *=0\n",
    "print(m)"
   ]
  },
  {
   "cell_type": "markdown",
   "metadata": {
    "slideshow": {
     "slide_type": "fragment"
    }
   },
   "source": [
    "- dot product"
   ]
  },
  {
   "cell_type": "code",
   "execution_count": 8,
   "metadata": {
    "collapsed": false,
    "slideshow": {
     "slide_type": "fragment"
    }
   },
   "outputs": [
    {
     "name": "stdout",
     "output_type": "stream",
     "text": [
      "149\n"
     ]
    }
   ],
   "source": [
    "print(np.dot(v, v))"
   ]
  },
  {
   "cell_type": "markdown",
   "metadata": {
    "slideshow": {
     "slide_type": "fragment"
    }
   },
   "source": [
    "When can the dot product of two vectors be useful for NLP? If there is a way to represent each text as a vector of a fixed length, we can measure the distance between two given texts/vectors, for instance, with cosine (as seen before):\n",
    "$$\\cos(v1,v2)=\\frac{(v1,v2)}{\\vert v1 \\vert * \\vert v2\\vert} $$"
   ]
  },
  {
   "cell_type": "markdown",
   "metadata": {
    "slideshow": {
     "slide_type": "slide"
    }
   },
   "source": [
    "- matrix multiplication"
   ]
  },
  {
   "cell_type": "code",
   "execution_count": 9,
   "metadata": {
    "collapsed": false,
    "slideshow": {
     "slide_type": "fragment"
    }
   },
   "outputs": [
    {
     "name": "stdout",
     "output_type": "stream",
     "text": [
      "[[ 7 10]\n",
      " [15 22]]\n",
      "[[ 7 10]\n",
      " [15 22]]\n"
     ]
    }
   ],
   "source": [
    "m = np.array([[1,2], [3,4]])\n",
    "print(np.matmul(m, m))\n",
    "print(np.dot(m, m))"
   ]
  },
  {
   "cell_type": "markdown",
   "metadata": {
    "slideshow": {
     "slide_type": "slide"
    }
   },
   "source": [
    "- element-wise matrix multiplication"
   ]
  },
  {
   "cell_type": "code",
   "execution_count": 10,
   "metadata": {
    "collapsed": false,
    "slideshow": {
     "slide_type": "fragment"
    }
   },
   "outputs": [
    {
     "name": "stdout",
     "output_type": "stream",
     "text": [
      "[[ 1  4]\n",
      " [ 9 16]]\n",
      "[[ 1  4]\n",
      " [ 9 16]]\n"
     ]
    }
   ],
   "source": [
    "print(m*m)\n",
    "print(np.multiply(m, m))"
   ]
  },
  {
   "cell_type": "markdown",
   "metadata": {
    "slideshow": {
     "slide_type": "slide"
    }
   },
   "source": [
    "- matrix transpose"
   ]
  },
  {
   "cell_type": "code",
   "execution_count": 11,
   "metadata": {
    "collapsed": false,
    "slideshow": {
     "slide_type": "fragment"
    }
   },
   "outputs": [
    {
     "name": "stdout",
     "output_type": "stream",
     "text": [
      "[[1 3]\n",
      " [2 4]]\n"
     ]
    }
   ],
   "source": [
    "print(m.T)"
   ]
  },
  {
   "cell_type": "markdown",
   "metadata": {
    "slideshow": {
     "slide_type": "slide"
    }
   },
   "source": [
    "#### Documentation\n",
    "\n",
    "http://www.numpy.org/"
   ]
  },
  {
   "cell_type": "markdown",
   "metadata": {
    "slideshow": {
     "slide_type": "slide"
    }
   },
   "source": [
    "### <span style=\"color:coral\">Some Machine Learning concepts</span>\n",
    "   * Learning  = improving with experience at some task: \n",
    "     * improve at task T, \n",
    "     * with respect to performance measure P, \n",
    "     * based on experience E.\n"
   ]
  },
  {
   "cell_type": "markdown",
   "metadata": {
    "slideshow": {
     "slide_type": "slide"
    }
   },
   "source": [
    "   * Types of ML tasks:\n",
    "     * Supervised (labeled data)\n",
    "       * Classification (categorical data)\n",
    "       * Regression (continuous data)\n",
    "     * Unsupervised (not labeled data)\n",
    "       * Clustering"
   ]
  },
  {
   "cell_type": "markdown",
   "metadata": {
    "slideshow": {
     "slide_type": "slide"
    }
   },
   "source": [
    "   * Typical workflow: \n",
    "        * get and prepare data, \n",
    "        * training, \n",
    "        * validation, \n",
    "        * repeat training-validation.\n",
    "   * Loss function\n",
    "   * Regularization"
   ]
  },
  {
   "cell_type": "markdown",
   "metadata": {
    "slideshow": {
     "slide_type": "slide"
    }
   },
   "source": [
    "### <span style=\"color:coral\">Neural Networks and Deep Learning</span>\n",
    "\n",
    "**Neural networks** are great approximators of non-linear functions. For instance they are able to find non-linear multidimentional boundaries in the context of classification. We will see a good example later."
   ]
  },
  {
   "cell_type": "markdown",
   "metadata": {
    "slideshow": {
     "slide_type": "slide"
    }
   },
   "source": [
    "The building block of a neural net is **perceptron**:\n",
    "\n",
    "![alt text](pics/perceptron.png)\n",
    "\n",
    "\n",
    "Here $x_1, ..., x_n$ are **input features**, $b$ is the **bias** and $W$ denotes the **weights**.\n",
    "\n",
    "The node is activated via an **activation function**, depending on the linear combinaton $x^{T}W+b:$\n",
    "$$ y=\\phi(x^{T}W+b).$$"
   ]
  },
  {
   "cell_type": "markdown",
   "metadata": {
    "slideshow": {
     "slide_type": "slide"
    }
   },
   "source": [
    "**Deep Learning** is the study of artificial neural networks containing more than one layer.\n",
    "\n",
    "Feedforward Neural Network performs static mapping from the inputs to the outpus via a given architechture and parameters (weights and biases). The task of a Neural Network is to find the best set of weights $W$ and biases $b$, given inputs $x$ and outputs $y$. We start with random weights and update them during the training process to minimize the loss function.\n",
    "\n",
    "![alt text](pics/large_net.png)"
   ]
  },
  {
   "cell_type": "markdown",
   "metadata": {
    "slideshow": {
     "slide_type": "slide"
    }
   },
   "source": [
    "Mathematical tools of Deep Learning:\n",
    "\n",
    "- Linear algebra [Cheatsheet](http://www.souravsengupta.com/cds2016/lectures/Savov_Notes.pdf)\n",
    "- Statistics [Cheatsheet](http://tutorial.math.lamar.edu/pdf/Calculus_Cheat_Sheet_All.pdf)\n",
    "- Calculus [Cheatsheet](http://web.mit.edu/~csvoss/Public/usabo/stats_handout.pdf)"
   ]
  },
  {
   "cell_type": "markdown",
   "metadata": {
    "slideshow": {
     "slide_type": "slide"
    }
   },
   "source": [
    "### Training\n",
    "\n",
    "Training consist of multiple repetitions of the cycle **Feedforward-Backpropagation**.\n",
    "\n",
    "![alt text](pics/cycle.png)\n"
   ]
  },
  {
   "cell_type": "markdown",
   "metadata": {
    "slideshow": {
     "slide_type": "slide"
    }
   },
   "source": [
    "Let us consider a basic Neural Net with one hidden layer, i.e. it consists of an input layer, a hidden layer and an output layer.\n",
    "\n",
    "![alt text](pics/feedforward.png)\n",
    "\n",
    "Each of the inputs $(x_1,....,x_{n_0})$ is connected to all of the neurons in the hidden layer $(h_1,..., h_{n_1})$ with corresponding weights $W^1_{ij}$, and each of the hidden layers $(h_1,..., h_{n_1})$ is connected to the output $y$ with weights $W^2_{i1}$. Each of the layers has their activation function:\n",
    "\n",
    "$$h=\\Phi(x, W^1),$$\n",
    "$$y=\\Phi(h, W^2).$$"
   ]
  },
  {
   "cell_type": "markdown",
   "metadata": {
    "slideshow": {
     "slide_type": "slide"
    }
   },
   "source": [
    "### Feedforward\n",
    "\n",
    "In the **Feedforward** stage we compute forward (left to right) and obtain the output of the system with the current values of parameters. It will be compared to the true ouptput, resulting in an error:\n",
    "\n",
    "![alt text](pics/feedforward.png)\n",
    "\n",
    "$$h=\\phi(x, W^1);$$\n",
    "\n",
    "$$y=\\phi(h, W^2).$$"
   ]
  },
  {
   "cell_type": "markdown",
   "metadata": {
    "slideshow": {
     "slide_type": "slide"
    }
   },
   "source": [
    "To compute the hidden layer we first perform the linear transformation of the input layer and then apply the activation function\n",
    "\n",
    "$$ (h^{\\text{lin}}_1,..., h^{\\text{lin}}_{n_1}) = (x_1,...,x_{n_0}) \\begin{pmatrix}W^1_{1,1} & W^1_{1,2} & ... & W^1_{1,n_1}\\\\\\ W^1_{2,1} & W^1_{2,2} & ... & W^1_{2,n_1} \\\\\\ ... & ... & ... & ...\\\\\\ W^1_{n_0,1} & W^1_{n_0,2} &... & W^1_{n_0,n_1}\\end{pmatrix},$$\n",
    "\n",
    "$$h = \\phi(h^{\\text{lin}}). $$"
   ]
  },
  {
   "cell_type": "markdown",
   "metadata": {
    "slideshow": {
     "slide_type": "fragment"
    }
   },
   "source": [
    "Analogously,\n",
    "$$ (y^{\\text{lin}}_1,..., y^{\\text{lin}}_{n_2}) = (h_1,...,h_{n_1}) \\begin{pmatrix}W^1_{1,1} & W^1_{1,2} & ... & W^1_{1,n_2}\\\\\\ W^1_{2,1} & W^1_{2,2} & ... & W^1_{2,n_2} \\\\\\ ... & ... & ... & ...\\\\\\ W^1_{n_1,1} & W^1_{n_1,2} &... & W^1_{n_1,n_2}\\end{pmatrix}$$\n",
    "\n",
    "and\n",
    "\n",
    "$$y = \\phi(y^{\\text{lin}}). $$"
   ]
  },
  {
   "cell_type": "markdown",
   "metadata": {
    "slideshow": {
     "slide_type": "slide"
    }
   },
   "source": [
    "### Activation functions for hidden layers\n",
    "\n",
    "- Sigmoid\n",
    "\n",
    "$$\\phi(x) = \\frac{1}{1 + \\exp(-x)}$$\n"
   ]
  },
  {
   "cell_type": "code",
   "execution_count": 12,
   "metadata": {
    "collapsed": true,
    "slideshow": {
     "slide_type": "slide"
    }
   },
   "outputs": [],
   "source": [
    "import matplotlib.pyplot as plt\n",
    "def line_graph(x, y, x_title, y_title):\n",
    "    plt.plot(x, y)\n",
    "    plt.xlabel(x_title)\n",
    "    plt.ylabel(y_title)\n",
    "    plt.show()"
   ]
  },
  {
   "cell_type": "code",
   "execution_count": 13,
   "metadata": {
    "collapsed": false,
    "slideshow": {
     "slide_type": "fragment"
    }
   },
   "outputs": [
    {
     "data": {
      "image/png": "[encoded data removed]",
      "text/plain": [
       "<Figure size 432x288 with 1 Axes>"
      ]
     },
     "metadata": {},
     "output_type": "display_data"
    }
   ],
   "source": [
    "import numpy as np\n",
    "x = range(-5, 5)\n",
    "\n",
    "def sigmoid(inputs):\n",
    "    return [1 / float(1 + np.exp(- x)) for x in inputs]\n",
    "     \n",
    "y_sigmoid = sigmoid(x)\n",
    "line_graph(x, y_sigmoid, \"x\", \"sigmoid(x)\")"
   ]
  },
  {
   "cell_type": "markdown",
   "metadata": {
    "slideshow": {
     "slide_type": "slide"
    }
   },
   "source": [
    "- Hyperbolic tangent\n",
    "\n",
    "$$\\phi(x) = \\tanh(x)$$"
   ]
  },
  {
   "cell_type": "code",
   "execution_count": 14,
   "metadata": {
    "collapsed": false,
    "slideshow": {
     "slide_type": "fragment"
    }
   },
   "outputs": [
    {
     "data": {
      "image/png": "[encoded data removed]",
      "text/plain": [
       "<Figure size 432x288 with 1 Axes>"
      ]
     },
     "metadata": {},
     "output_type": "display_data"
    }
   ],
   "source": [
    "def tanh(inputs):\n",
    "    values = [ np.tanh(x) for x in inputs]\n",
    "    return values\n",
    "\n",
    "y_tanh = tanh(x)\n",
    "line_graph(x, y_tanh, \"x\", \"tanh(x)\")"
   ]
  },
  {
   "cell_type": "markdown",
   "metadata": {
    "slideshow": {
     "slide_type": "slide"
    }
   },
   "source": [
    "- Rectified Linear Unit fuction (ReLU)\n",
    "\n",
    "$$\\phi(x) = x I_{x \\ge 0}$$"
   ]
  },
  {
   "cell_type": "code",
   "execution_count": 15,
   "metadata": {
    "collapsed": false,
    "slideshow": {
     "slide_type": "fragment"
    }
   },
   "outputs": [
    {
     "data": {
      "image/png": "[encoded data removed]",
      "text/plain": [
       "<Figure size 432x288 with 1 Axes>"
      ]
     },
     "metadata": {},
     "output_type": "display_data"
    }
   ],
   "source": [
    "def ReLU(inputs):    \n",
    "    values = [x if x>0 else 0 for x in inputs]\n",
    "    return values\n",
    "\n",
    "y_relu = ReLU(x)\n",
    "line_graph(x, y_relu, \"x\", \"tanh(x)\")"
   ]
  },
  {
   "cell_type": "markdown",
   "metadata": {
    "slideshow": {
     "slide_type": "slide"
    }
   },
   "source": [
    "### Activation functions for the output layer\n",
    "\n",
    "- Sigmoid\n",
    "\n",
    "$$\\phi(x) = \\frac{1}{1 + \\exp(-x)}$$\n",
    "\n",
    "- Softmax\n",
    "\n",
    "$$\\phi(x)_k = \\frac{\\exp(- x_k)}{\\sum_{i=1}^K \\exp(-x_i)}$$\n",
    "\n",
    "- Linear\n",
    "\n",
    "$$\\phi(x) = x$$"
   ]
  },
  {
   "cell_type": "code",
   "execution_count": 16,
   "metadata": {
    "collapsed": false,
    "slideshow": {
     "slide_type": "fragment"
    }
   },
   "outputs": [
    {
     "data": {
      "text/plain": [
       "array([0.2312239 , 0.14024438, 0.62853172])"
      ]
     },
     "execution_count": 16,
     "metadata": {},
     "output_type": "execute_result"
    }
   ],
   "source": [
    "def softmax(inputs):\n",
    "    exp_inputs = np.exp(inputs)\n",
    "    out = np.divide (exp_inputs, exp_inputs.sum())\n",
    "    return out\n",
    "\n",
    "softmax([1, 0.5, 2])"
   ]
  },
  {
   "cell_type": "markdown",
   "metadata": {
    "slideshow": {
     "slide_type": "slide"
    }
   },
   "source": [
    "### Error functions\n",
    "\n",
    "-  Mean Squared Error (MSE), for regression \n",
    "\n",
    "$$ E = \\frac{1}{n}\\sum_{i=1}^n (y_i - \\hat{y}_i)^2$$"
   ]
  },
  {
   "cell_type": "code",
   "execution_count": 17,
   "metadata": {
    "collapsed": false,
    "slideshow": {
     "slide_type": "fragment"
    }
   },
   "outputs": [
    {
     "data": {
      "text/plain": [
       "0.44"
      ]
     },
     "execution_count": 17,
     "metadata": {},
     "output_type": "execute_result"
    }
   ],
   "source": [
    "def mse(y, yhat):\n",
    "    y = np.array(y)\n",
    "    yhat = np.array(yhat)\n",
    "    out = np.sum((y-yhat)**2)/len(y)\n",
    "    return out\n",
    "\n",
    "y=[1,0,1,1]\n",
    "yhat=[0.4,0.6,0.1,0.5]\n",
    "round(mse(y, yhat),2)"
   ]
  },
  {
   "cell_type": "markdown",
   "metadata": {
    "slideshow": {
     "slide_type": "slide"
    }
   },
   "source": [
    "-  Cross-entropy, for classification\n",
    "\n",
    "$$ E = - \\frac{1}{n}\\sum_{i=1}^n  \\left( y_i \\log(\\hat{p}_i) + (1- y_i) \\log(1-\\hat{p}_i) \\right)$$"
   ]
  },
  {
   "cell_type": "code",
   "execution_count": 18,
   "metadata": {
    "collapsed": false,
    "slideshow": {
     "slide_type": "fragment"
    }
   },
   "outputs": [
    {
     "name": "stdout",
     "output_type": "stream",
     "text": [
      "4.83\n"
     ]
    }
   ],
   "source": [
    "def cross_entropy(y, p):\n",
    "    y = np.array(y)\n",
    "    p = np.array(p)\n",
    "    out = - (np.dot(y, np.log(p)) + np.dot(1-y, np.log(1-p)))\n",
    "    return out\n",
    "\n",
    "y=[1,0,1,1]\n",
    "p=[0.4,0.6,0.1,0.5]\n",
    "print(round(cross_entropy(y, p),2))"
   ]
  },
  {
   "cell_type": "markdown",
   "metadata": {
    "slideshow": {
     "slide_type": "slide"
    }
   },
   "source": [
    "### Backpropagation\n",
    "\n",
    "During **Backpropagation** we compute backwards (right to left) and update the weights to minimize the error.\n",
    "\n",
    "![alt text](pics/backprop.png)"
   ]
  },
  {
   "cell_type": "markdown",
   "metadata": {
    "slideshow": {
     "slide_type": "slide"
    }
   },
   "source": [
    "### Gradient Descent\n",
    "\n",
    "Generally, **gradient** of a function $E(x_1,...,x_n)$\n",
    "\n",
    "$$\\nabla_{(x_1,...,x_n)} E =  \\begin{pmatrix} \\frac{\\partial E}{\\partial x_1} \\\\ ... \\\\ \\frac{\\partial E}{\\partial x_n} \\end{pmatrix}$$\n",
    "\n",
    "is a vector in the direction of the fastest growth of a function. Since our aim is to minimize the error, we are interested to find $- \\nabla E$: it indicates in which direction the function decreases the most.\n",
    "\n",
    "It follows, that a good way to update the weights is\n",
    "\n",
    "$$ W^{new} = W^{old} + \\nabla_W (-E).$$\n",
    "\n",
    "Anyhow, if the size of the step $\\nabla_W (-E)$ is too small or too large, it may take too long to find the minimum, we may get stuck in a local minimum or overshoot. To adjust, a **learning rate** $\\alpha$ is introduced.\n",
    "\n",
    "There are some algorithms which help us choose the learning rate, e.g. Adam (Adaptive Moment Estimation)"
   ]
  },
  {
   "cell_type": "markdown",
   "metadata": {
    "slideshow": {
     "slide_type": "slide"
    }
   },
   "source": [
    "### Weights update\n",
    "\n",
    "$$ W^{new} = W^{old} + \\alpha \\nabla_W (-E),$$\n",
    "\n",
    "where $\\alpha$ is the learning rate, i.e. the step size and $\\nabla_W E$ denotes the gradient of the error function with repect to the parameters $W$. This can be also written as\n",
    "\n",
    "$$ W^{new}_{ij} = W^{old}_{ij} + \\alpha \\left( -\\frac{\\partial E}{\\partial W_{ij}} \\right).$$"
   ]
  },
  {
   "cell_type": "markdown",
   "metadata": {
    "slideshow": {
     "slide_type": "slide"
    }
   },
   "source": [
    "It is not uncommon to use the notation\n",
    "$$\\delta_{ij} = \\frac{\\partial y}{\\partial W_{i,j}}.$$\n",
    "\n",
    "Then\n",
    "$$\\frac{\\partial E}{\\partial W_{ij}} = \\frac{\\partial E}{\\partial y} \\frac{\\partial y}{\\partial W_{ij}} = \\delta_{ij} \\frac{\\partial E}{\\partial y}.$$\n",
    "\n",
    "Applying the chain rule\n",
    "\n",
    "$$\\delta_{ij} = \\frac{\\partial y}{\\partial W_{ij}} = \\sum_{k=1}^{n} \\frac{\\partial \\Phi}{\\partial h_k} \\frac{\\partial h_k}{\\partial W_{ij}},$$\n",
    "\n",
    "i.e. we need to sum over all paths between $W_{ij}$ and $y$."
   ]
  },
  {
   "cell_type": "markdown",
   "metadata": {
    "slideshow": {
     "slide_type": "slide"
    }
   },
   "source": [
    "### Useful derivatives\n",
    "\n",
    "- Sigmoid\n",
    "\n",
    "$$\\sigma'(x) = \\frac{\\partial}{\\partial x} \\frac{1}{1 + \\exp(-x)} = \\frac{\\exp(-x)}{(1 + \\exp(-x))^2} = \\sigma(x) \\left(1- \\sigma'(x) \\right).$$\n",
    "\n",
    "- Hyperbolic tangent\n",
    "\n",
    "$$\\tanh'(x) = 1 -\\tanh^2(x).$$\n",
    "\n",
    "- Rectified Linear Unit\n",
    "\n",
    "$$\\text{ReLU}'(x) = I_{x \\ge 0}$$"
   ]
  },
  {
   "cell_type": "markdown",
   "metadata": {
    "slideshow": {
     "slide_type": "slide"
    }
   },
   "source": [
    "### Calculations for perceptron\n",
    "\n",
    "Now, when we understand the general workflow, let us construct the training algorithm for one perceptron with sigmoid activation function (performing logistic regression).\n",
    "\n",
    "![alt text](pics/perceptron.png)"
   ]
  },
  {
   "cell_type": "markdown",
   "metadata": {
    "slideshow": {
     "slide_type": "slide"
    }
   },
   "source": [
    "The goal is to minimize the error function, which is the mean point-wise error over $m$ training inputs\n",
    "\n",
    "$$E = \\frac{1}{m} \\sum E_k,$$\n",
    "$$E_k = - (y_i \\ln(\\hat{p_k}) + (1-y_k) \\ln(1- \\hat{p_k})).$$\n",
    "\n",
    "The predicted probabilities are evaluated via the activation function \n",
    "$$\\hat{p_k} = \\sigma(x_k^T W + b).$$\n",
    "\n",
    "Let us drop the index for now and perform computations for one observation\n",
    "\n",
    "$$E = - (y \\ln(\\hat{p}) + (1-y) \\ln(1- \\hat{p})).$$\n",
    "\n",
    "We need to find $\\frac{\\partial E}{\\partial W_i}$ (here denote $W_{i1}$ as $W_i$ and consider $\\frac{\\partial E}{\\partial b}$ be the particular case of $\\frac{\\partial E}{\\partial W_i}$). \n"
   ]
  },
  {
   "cell_type": "markdown",
   "metadata": {
    "slideshow": {
     "slide_type": "slide"
    }
   },
   "source": [
    "Beforehand, compute \n",
    "$$  \\frac{\\partial \\hat{p}}{\\partial W_i} = \\frac{\\partial}{\\partial W_i}\\sigma(x^T W + b) = \\hat{p} (1-\\hat{p}) x_i. $$\n",
    "\n",
    "Then\n",
    "$$\n",
    "\\begin{aligned}\n",
    "  \\frac{\\partial E}{\\partial W_i} &=  - \\left(y \\frac{\\partial}{\\partial W_i} \\ln(\\hat{p}) + (1-y) \\frac{\\partial}   {\\partial W_i} \\ln(1- \\hat{p}) \\right) \\\\\n",
    "  &= - \\left(y \\frac{1}{\\hat{p}} \\frac{\\partial \\hat{p}}{\\partial W_i} + (1-y) \\frac{1}{1-\\hat{p}} \\frac{\\partial (-\\hat{p})}   {\\partial W_i}  \\right) = \\text{(substitute from above)} \\\\\n",
    "  &= - (y - \\hat{p}) x_i,\n",
    " \\end{aligned}\n",
    "$$\n",
    "and it follows, in particular,\n",
    "$$\n",
    "\\frac{\\partial E}{\\partial b} = - (y - \\hat{p}).\n",
    "$$"
   ]
  },
  {
   "cell_type": "markdown",
   "metadata": {
    "slideshow": {
     "slide_type": "slide"
    }
   },
   "source": [
    "#### Logistic regression training algorithm\n",
    "- initialize randomly weights $W$ and bias $b$\n",
    "- repeat until the error is small:\n",
    "  - compute prediction $\\hat{p}_i$ for each training input $x_i$,\n",
    "  - update weights and bias.\n"
   ]
  },
  {
   "cell_type": "markdown",
   "metadata": {
    "slideshow": {
     "slide_type": "slide"
    }
   },
   "source": [
    "### Perceptron implementation"
   ]
  },
  {
   "cell_type": "code",
   "execution_count": 19,
   "metadata": {
    "collapsed": true,
    "slideshow": {
     "slide_type": "fragment"
    }
   },
   "outputs": [],
   "source": [
    "# useful functions\n",
    "def sigmoid(x):\n",
    "    return 1 / (1 + np.exp(-x))"
   ]
  },
  {
   "cell_type": "code",
   "execution_count": 20,
   "metadata": {
    "collapsed": true,
    "slideshow": {
     "slide_type": "slide"
    }
   },
   "outputs": [],
   "source": [
    "# Generate data:\n",
    "# assume the line W1*x1+W2*x2 = 0 separates the two regions: {y=1}, {y=0}\n",
    "\n",
    "import numpy as np\n",
    "\n",
    "#number of features\n",
    "n_features = 2\n",
    "n_classes = 1\n",
    "\n",
    "#number of observations\n",
    "m = 100\n",
    "\n",
    "# generate features\n",
    "Xsim = np.random.normal(0, 10, size=(m,n_features))\n",
    "\n",
    "# set the values of true parameters\n",
    "W_true = np.array([1.0, 3.0])\n",
    "W_true.shape = (n_features,n_classes)\n",
    "\n",
    "# fill the lables\n",
    "ysim = np.zeros(shape=(m,n_classes))\n",
    "for i in range(m):\n",
    "    if sigmoid(np.dot(Xsim[i,:], W_true))>0.5:\n",
    "        ysim[i] = 1"
   ]
  },
  {
   "cell_type": "code",
   "execution_count": 21,
   "metadata": {
    "collapsed": false,
    "slideshow": {
     "slide_type": "slide"
    }
   },
   "outputs": [
    {
     "data": {
      "text/plain": [
       "[<matplotlib.lines.Line2D at 0x10cb30eb8>,\n",
       " <matplotlib.lines.Line2D at 0x10cb3a198>]"
      ]
     },
     "execution_count": 21,
     "metadata": {},
     "output_type": "execute_result"
    },
    {
     "data": {
      "image/png": "[encoded data removed]",
      "text/plain": [
       "<Figure size 432x288 with 1 Axes>"
      ]
     },
     "metadata": {},
     "output_type": "display_data"
    }
   ],
   "source": [
    "# plot\n",
    "Xred = Xsim[np.argwhere(ysim==1),:]\n",
    "Xblue = Xsim[np.argwhere(ysim==0),:]\n",
    "plt.plot(Xred[:,0,0], Xred[:,0,1], 'ro', Xblue[:,0,0], Xblue[:,0,1], 'bs')\n",
    "\n",
    "# TO DO: increase the number of observations and observe the changes on the plot. \n",
    "# How will the number of observations impact the predictions?"
   ]
  },
  {
   "cell_type": "code",
   "execution_count": 22,
   "metadata": {
    "collapsed": true,
    "slideshow": {
     "slide_type": "fragment"
    }
   },
   "outputs": [],
   "source": [
    "def compute_probs(X, W):\n",
    "    return sigmoid(np.dot(X, W))"
   ]
  },
  {
   "cell_type": "code",
   "execution_count": 45,
   "metadata": {
    "collapsed": true,
    "slideshow": {
     "slide_type": "slide"
    }
   },
   "outputs": [],
   "source": [
    "# training hyperparameters\n",
    "epochs = 1000\n",
    "learning_rate = 0.002\n",
    "\n",
    "# initialize weights and bias\n",
    "W = np.random.normal(0, 1, size=W_true.shape)"
   ]
  },
  {
   "cell_type": "code",
   "execution_count": 56,
   "metadata": {
    "collapsed": false,
    "slideshow": {
     "slide_type": "slide"
    }
   },
   "outputs": [
    {
     "name": "stdout",
     "output_type": "stream",
     "text": [
      "epoch: 100,  W[0]: 2.016398,  W[1]: 6.021980\n",
      "epoch: 200,  W[0]: 2.028628,  W[1]: 6.058620\n",
      "epoch: 300,  W[0]: 2.040694,  W[1]: 6.094766\n",
      "epoch: 400,  W[0]: 2.052600,  W[1]: 6.130435\n",
      "epoch: 500,  W[0]: 2.064352,  W[1]: 6.165642\n",
      "epoch: 600,  W[0]: 2.075954,  W[1]: 6.200401\n",
      "epoch: 700,  W[0]: 2.087411,  W[1]: 6.234725\n",
      "epoch: 800,  W[0]: 2.098727,  W[1]: 6.268628\n",
      "epoch: 900,  W[0]: 2.109906,  W[1]: 6.302122\n",
      "epoch:1000,  W[0]: 2.120952,  W[1]: 6.335219\n"
     ]
    }
   ],
   "source": [
    "# train\n",
    "for epoch in range(epochs):\n",
    "    probs = compute_probs(Xsim, W)\n",
    "    d_error = -(ysim - probs)\n",
    "    W -= learning_rate * np.dot(Xsim.T, d_error)\n",
    "    \n",
    "    # print every 100 epochs\n",
    "    if (epoch + 1) % 100 == 0:\n",
    "        print('epoch:{:4d},  W[0]: {:5f},  W[1]: {:5f}'.format(epoch + 1, float(W[0]), float(W[1])))"
   ]
  },
  {
   "cell_type": "code",
   "execution_count": 59,
   "metadata": {
    "collapsed": false
   },
   "outputs": [
    {
     "data": {
      "text/plain": [
       "[<matplotlib.lines.Line2D at 0x10d4425c0>]"
      ]
     },
     "execution_count": 59,
     "metadata": {},
     "output_type": "execute_result"
    },
    {
     "data": {
      "image/png": "[encoded data removed]",
      "text/plain": [
       "<Figure size 432x288 with 1 Axes>"
      ]
     },
     "metadata": {},
     "output_type": "display_data"
    }
   ],
   "source": [
    "Xred = Xsim[np.argwhere(ysim==1),:]\n",
    "Xblue = Xsim[np.argwhere(ysim==0),:]\n",
    "plt.plot(Xred[:,0,0], Xred[:,0,1], 'ro', Xblue[:,0,0], Xblue[:,0,1], 'bs')\n",
    "plt.plot(np.linspace(-25,30,100), -float(W[0]/W[1])*np.linspace(-25,30,100) - W[0]/W[1])"
   ]
  },
  {
   "cell_type": "code",
   "execution_count": 58,
   "metadata": {
    "collapsed": true,
    "slideshow": {
     "slide_type": "slide"
    }
   },
   "outputs": [],
   "source": [
    "# TO DO:\n",
    "# Change the number of epochs and the learning rate and observe what happens to the output.\n",
    "# Ideally we want to see, that the values converge to W_true.\n",
    "# Hint: without changing the learning rate, try epochs = 1000.\n",
    "\n",
    "# TO DO AT HOME:\n",
    "# adjust the code to account for bias\n",
    "\n",
    "# TO DO AT HOME:\n",
    "# implement perceptron as class"
   ]
  },
  {
   "cell_type": "markdown",
   "metadata": {
    "slideshow": {
     "slide_type": "slide"
    }
   },
   "source": [
    "### Batching\n",
    "\n",
    "Previously we assumed that weights are updated after each calculation of the output. The updates can be made every $N$ steps. Then $N$ is called the batch-size.\n",
    "\n",
    "$$\\delta = \\frac{1}{N} \\sum \\delta_{ij}.$$\n",
    "\n",
    "As the result, we will perform less computations to save time and average the noise out to improve convergence."
   ]
  },
  {
   "cell_type": "markdown",
   "metadata": {
    "slideshow": {
     "slide_type": "slide"
    }
   },
   "source": [
    "### Dropout\n",
    "\n",
    "Dropout is a regularization method.\n",
    "\n",
    "If one part of a neural network has very large weights, it will dominate the training proces. As a solution, some nodes are being switched off randomly with a give probability of the dropout for one training epoch."
   ]
  },
  {
   "cell_type": "markdown",
   "metadata": {
    "collapsed": true,
    "slideshow": {
     "slide_type": "slide"
    }
   },
   "source": [
    "# Word embeddings\n",
    "\n",
    "The general idea is to embed a space with one dimension per word to a continuous vector space with a much lower dimension. How is this done?\n",
    "\n",
    "There are many ways, but we will look at word2vec."
   ]
  },
  {
   "cell_type": "markdown",
   "metadata": {
    "slideshow": {
     "slide_type": "slide"
    }
   },
   "source": [
    "## Word2Vec\n",
    "[https://towardsdatascience.com/learn-word2vec-by-implementing-it-in-tensorflow-45641adaf2ac]\n",
    "\n",
    "Simplified:\n",
    "\n",
    "1. Take a 3 layer neural network. (1 input layer + 1 hidden layer + 1 output layer)\n",
    "2. Feed words and train it to predict neighbouring words.\n",
    "3. Remove the last (output layer) and keep the input and hidden layer.\n",
    "4. Input a word from within the vocabulary. The output given at the hidden layer is the ‘word embedding’ of the input word.\n",
    "\n",
    "Let's see how this works"
   ]
  },
  {
   "cell_type": "code",
   "execution_count": 260,
   "metadata": {
    "collapsed": false,
    "slideshow": {
     "slide_type": "slide"
    }
   },
   "outputs": [
    {
     "name": "stdout",
     "output_type": "stream",
     "text": [
      "{'she', 'he', 'king', 'queen', 'royal', 'is', 'the'}\n"
     ]
    }
   ],
   "source": [
    "import tensorflow as tf\n",
    "import numpy as np\n",
    "\n",
    "corpus_raw = 'He is the king . The king is royal . She is the royal  queen '\n",
    "\n",
    "corpus_raw = corpus_raw.lower()\n",
    "\n",
    "words = []\n",
    "for word in corpus_raw.split():\n",
    "    if word not in ['.']: \n",
    "        words.append(word)\n",
    "\n",
    "words = set(words) \n",
    "print(words)\n"
   ]
  },
  {
   "cell_type": "code",
   "execution_count": 263,
   "metadata": {
    "collapsed": false,
    "slideshow": {
     "slide_type": "slide"
    }
   },
   "outputs": [],
   "source": [
    "word2int = {}\n",
    "int2word = {}\n",
    "vocab_size = len(words) # gives the total number of unique words\n",
    "\n",
    "for i,word in enumerate(words):\n",
    "    word2int[word] = i\n",
    "    int2word[i] = word\n",
    "\n",
    "# raw sentences is a list of sentences.\n",
    "raw_sentences = corpus_raw.split('.')\n",
    "sentences = []\n",
    "for sentence in raw_sentences:\n",
    "    sentences.append(sentence.split())"
   ]
  },
  {
   "cell_type": "code",
   "execution_count": 267,
   "metadata": {
    "collapsed": false,
    "slideshow": {
     "slide_type": "slide"
    }
   },
   "outputs": [
    {
     "name": "stdout",
     "output_type": "stream",
     "text": [
      "[['he', 'is'], ['he', 'the'], ['is', 'he'], ['is', 'the'], ['is', 'king']]\n"
     ]
    }
   ],
   "source": [
    "WINDOW_SIZE = 2 # 2-gram\n",
    "\n",
    "data = []\n",
    "for sentence in sentences:\n",
    "    for word_index, word in enumerate(sentence):\n",
    "        for nb_word in sentence[max(word_index - WINDOW_SIZE, 0) : min(word_index + WINDOW_SIZE, len(sentence)) + 1] : \n",
    "            if nb_word != word:\n",
    "                data.append([word, nb_word])\n",
    "                \n",
    "print(data[0:5])"
   ]
  },
  {
   "cell_type": "code",
   "execution_count": 268,
   "metadata": {
    "collapsed": false,
    "slideshow": {
     "slide_type": "slide"
    }
   },
   "outputs": [
    {
     "name": "stdout",
     "output_type": "stream",
     "text": [
      "[0. 0. 1. 0. 0. 0. 0. 0. 0. 0. 0. 0. 0. 0. 0. 0. 0. 0. 0. 0.]\n"
     ]
    }
   ],
   "source": [
    "# function to convert numbers to one hot vectors\n",
    "def to_one_hot(data_point_index, vocab_size):\n",
    "    temp = np.zeros(vocab_size)\n",
    "    temp[data_point_index] = 1\n",
    "    return temp\n",
    "\n",
    "print(to_one_hot(2,20))"
   ]
  },
  {
   "cell_type": "code",
   "execution_count": 262,
   "metadata": {
    "collapsed": false,
    "slideshow": {
     "slide_type": "slide"
    }
   },
   "outputs": [],
   "source": [
    "x_train = [] # input word\n",
    "y_train = [] # output word\n",
    "\n",
    "for data_word in data:\n",
    "    x_train.append(to_one_hot(word2int[ data_word[0] ], vocab_size))\n",
    "    y_train.append(to_one_hot(word2int[ data_word[1] ], vocab_size))\n",
    "\n",
    "# convert them to numpy arrays\n",
    "x_train = np.asarray(x_train)\n",
    "y_train = np.asarray(y_train)"
   ]
  },
  {
   "cell_type": "code",
   "execution_count": null,
   "metadata": {
    "collapsed": true,
    "slideshow": {
     "slide_type": "slide"
    }
   },
   "outputs": [],
   "source": [
    "# Set up neural network:\n",
    "\n",
    "# making placeholders for x_train and y_train\n",
    "x = tf.placeholder(tf.float32, shape=(None, vocab_size))\n",
    "y_label = tf.placeholder(tf.float32, shape=(None, vocab_size))\n",
    "\n",
    "# how large is the size of the vector space that embeds the initial vs?\n",
    "EMBEDDING_DIM = 5 \n",
    "\n",
    "W1 = tf.Variable(tf.random_normal([vocab_size, EMBEDDING_DIM])) # input size x embedding size\n",
    "b1 = tf.Variable(tf.random_normal([EMBEDDING_DIM])) #bias\n",
    "hidden_representation = tf.add(tf.matmul(x,W1), b1) # hidden layer \n",
    "\n",
    "W2 = tf.Variable(tf.random_normal([EMBEDDING_DIM, vocab_size])) # embedding size x input size\n",
    "b2 = tf.Variable(tf.random_normal([vocab_size]))\n",
    "prediction = tf.nn.softmax(tf.add( tf.matmul(hidden_representation, W2), b2))"
   ]
  },
  {
   "cell_type": "code",
   "execution_count": 284,
   "metadata": {
    "collapsed": false,
    "slideshow": {
     "slide_type": "slide"
    }
   },
   "outputs": [
    {
     "name": "stdout",
     "output_type": "stream",
     "text": [
      "loss at iteration 0 is : 3.321847 \n",
      "loss at iteration 1000 is : 1.756391 \n",
      "loss at iteration 2000 is : 1.614842 \n",
      "loss at iteration 3000 is : 1.541115 \n",
      "loss at iteration 4000 is : 1.491600 \n",
      "loss at iteration 5000 is : 1.456655 \n",
      "loss at iteration 6000 is : 1.430953 \n",
      "loss at iteration 7000 is : 1.411477 \n",
      "loss at iteration 8000 is : 1.396449 \n",
      "loss at iteration 9000 is : 1.384690 \n",
      "loss at iteration 10000 is : 1.375362 \n",
      "loss at iteration 11000 is : 1.367854 \n",
      "loss at iteration 12000 is : 1.361727 \n",
      "loss at iteration 13000 is : 1.356662 \n",
      "loss at iteration 14000 is : 1.352425 \n",
      "loss at iteration 15000 is : 1.348848 \n",
      "loss at iteration 16000 is : 1.345804 \n",
      "loss at iteration 17000 is : 1.343198 \n",
      "loss at iteration 18000 is : 1.340955 \n",
      "loss at iteration 19000 is : 1.339016 \n"
     ]
    }
   ],
   "source": [
    "# Train model\n",
    "sess = tf.Session()\n",
    "init = tf.global_variables_initializer()\n",
    "sess.run(init)\n",
    "\n",
    "# define the loss function:\n",
    "cross_entropy_loss = tf.reduce_mean(-tf.reduce_sum(y_label * tf.log(prediction), reduction_indices=[1]))\n",
    "\n",
    "# define the training step:\n",
    "train_step = tf.train.GradientDescentOptimizer(0.005).minimize(cross_entropy_loss)\n",
    "\n",
    "# train for n_iter iterations\n",
    "n_iters = 20000\n",
    "\n",
    "for i in range(n_iters):\n",
    "    sess.run(train_step, feed_dict={x: x_train, y_label: y_train})\n",
    "    if i % 1000 == 0:\n",
    "        print('loss at iteration %d is : %f ' %(i, sess.run(cross_entropy_loss, feed_dict={x: x_train, y_label: y_train})))"
   ]
  },
  {
   "cell_type": "code",
   "execution_count": 285,
   "metadata": {
    "collapsed": true,
    "slideshow": {
     "slide_type": "slide"
    }
   },
   "outputs": [],
   "source": [
    "# generate vectors\n",
    "vectors = sess.run(W1 + b1)"
   ]
  },
  {
   "cell_type": "code",
   "execution_count": 286,
   "metadata": {
    "collapsed": false,
    "slideshow": {
     "slide_type": "slide"
    }
   },
   "outputs": [
    {
     "name": "stdout",
     "output_type": "stream",
     "text": [
      "[[ 0.8681835   0.49624342]\n",
      " [-0.3429638   0.93934864]\n",
      " [ 0.844287   -0.53589123]\n",
      " [ 0.13640341 -0.99065334]\n",
      " [-0.63507986 -0.7724465 ]\n",
      " [-0.9996227   0.0274664 ]\n",
      " [-0.15002593 -0.98868203]]\n"
     ]
    }
   ],
   "source": [
    "from sklearn.manifold import TSNE\n",
    "from sklearn import preprocessing\n",
    "\n",
    "model = TSNE(n_components=2, random_state=0)\n",
    "np.set_printoptions(suppress=True)\n",
    "vectors = model.fit_transform(vectors) \n",
    "\n",
    "normalizer = preprocessing.Normalizer()\n",
    "vectors =  normalizer.fit_transform(vectors, 'l2')\n",
    "\n",
    "print(vectors)"
   ]
  },
  {
   "cell_type": "code",
   "execution_count": 287,
   "metadata": {
    "collapsed": true,
    "slideshow": {
     "slide_type": "slide"
    }
   },
   "outputs": [],
   "source": [
    "def euclidean_dist(v1, v2):\n",
    "    return np.sqrt(np.sum((v1-v2)**2))\n",
    "\n",
    "def find_closest(word_index, vectors):\n",
    "    min_dist = 10000 # to act like positive infinity\n",
    "    min_index = -1\n",
    "    query_vector = vectors[word_index]\n",
    "    for index, vector in enumerate(vectors):\n",
    "        if euclidean_dist(vector, query_vector) < min_dist and not np.array_equal(vector, query_vector):\n",
    "            min_dist = euclidean_dist(vector, query_vector)\n",
    "            min_index = index\n",
    "    return min_index"
   ]
  },
  {
   "cell_type": "code",
   "execution_count": 292,
   "metadata": {
    "collapsed": false,
    "slideshow": {
     "slide_type": "slide"
    }
   },
   "outputs": [
    {
     "data": {
      "image/png": "[encoded data removed]",
      "text/plain": [
       "<Figure size 432x288 with 1 Axes>"
      ]
     },
     "metadata": {},
     "output_type": "display_data"
    }
   ],
   "source": [
    "import matplotlib.pyplot as plt\n",
    "fig, ax = plt.subplots()\n",
    "for word in words:\n",
    "    #print(word, vectors[word2int[word]][0], vectors[word2int[word]][1])\n",
    "    plt.annotate(word, (vectors[word2int[word]][0],vectors[word2int[word]][1] ))\n",
    "plt.xlim([-1.2,1.2])\n",
    "plt.ylim([-1.2,1.2])\n",
    "plt.show()"
   ]
  },
  {
   "cell_type": "code",
   "execution_count": 311,
   "metadata": {
    "collapsed": false,
    "slideshow": {
     "slide_type": "slide"
    }
   },
   "outputs": [
    {
     "name": "stdout",
     "output_type": "stream",
     "text": [
      "queen\n",
      "is\n"
     ]
    }
   ],
   "source": [
    "print(int2word[find_closest(word2int['king'], vectors)])\n",
    "print(int2word[find_closest(word2int['king']+word2int['she']-word2int['he'], vectors)])"
   ]
  },
  {
   "cell_type": "code",
   "execution_count": 304,
   "metadata": {
    "collapsed": false,
    "slideshow": {
     "slide_type": "slide"
    }
   },
   "outputs": [
    {
     "name": "stdout",
     "output_type": "stream",
     "text": [
      "[==================================================] 100.0% 66.0/66.0MB downloaded\n",
      "queen: 0.8524\n"
     ]
    }
   ],
   "source": [
    "import gensim.downloader as api\n",
    "\n",
    "word_vectors = api.load(\"glove-wiki-gigaword-50\")  # load pre-trained word-vectors from gensim-data"
   ]
  },
  {
   "cell_type": "code",
   "execution_count": 310,
   "metadata": {
    "collapsed": false,
    "slideshow": {
     "slide_type": "slide"
    }
   },
   "outputs": [
    {
     "name": "stdout",
     "output_type": "stream",
     "text": [
      "queen: 0.8800\n",
      "prince: 0.8236\n"
     ]
    }
   ],
   "source": [
    "result = word_vectors.most_similar(positive=['she', 'king'], negative=['he'])\n",
    "print(\"{}: {:.4f}\".format(*result[0]))\n",
    "\n",
    "result = word_vectors.most_similar(positive=['king'])\n",
    "print(\"{}: {:.4f}\".format(*result[0]))"
   ]
  }
 ],
 "metadata": {
  "celltoolbar": "Slideshow",
  "kernelspec": {
   "display_name": "Python 3",
   "language": "python",
   "name": "python3"
  },
  "language_info": {
   "codemirror_mode": {
    "name": "ipython",
    "version": 3
   },
   "file_extension": ".py",
   "mimetype": "text/x-python",
   "name": "python",
   "nbconvert_exporter": "python",
   "pygments_lexer": "ipython3",
   "version": "3.6.4"
  }
 },
 "nbformat": 4,
 "nbformat_minor": 2
}
