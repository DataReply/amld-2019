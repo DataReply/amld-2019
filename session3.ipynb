{
 "cells": [
  {
   "cell_type": "markdown",
   "metadata": {},
   "source": [
    "# The task\n",
    "\n",
    "Ok, so let's do some fake news detection.\n",
    "\n",
    "Given a headline and a body of text, we want to say whether these two are:\n",
    "\n",
    "* unrelated\n",
    "* agree with each other\n",
    "* disagree with each other\n",
    "* discuss each other"
   ]
  },
  {
   "cell_type": "code",
   "execution_count": 1,
   "metadata": {
    "collapsed": false
   },
   "outputs": [
    {
     "name": "stderr",
     "output_type": "stream",
     "text": [
      "Using TensorFlow backend.\n"
     ]
    },
    {
     "name": "stdout",
     "output_type": "stream",
     "text": [
      "Reading dataset in dataset/\n",
      "Loading files train_bodies.csv, train_stances.csv\n",
      "Reading dataset in dataset/\n",
      "Loading files competition_test_bodies.csv, competition_test_stances.csv\n"
     ]
    }
   ],
   "source": [
    "from utils.data import DataSet\n",
    "from utils.features import *\n",
    "from utils.dependencies import *\n",
    "import numpy as np\n",
    "import pandas as pd\n",
    "from keras.models import Sequential\n",
    "from keras.layers import Dense\n",
    "from keras.wrappers.scikit_learn import KerasClassifier\n",
    "from keras.utils import np_utils\n",
    "from sklearn.model_selection import cross_val_score\n",
    "from sklearn.model_selection import KFold\n",
    "from sklearn.preprocessing import LabelEncoder\n",
    "from sklearn.pipeline import Pipeline\n",
    "\n",
    "training = DataSet()\n",
    "test = DataSet(name=\"competition_test\")"
   ]
  },
  {
   "cell_type": "code",
   "execution_count": 2,
   "metadata": {
    "collapsed": true
   },
   "outputs": [],
   "source": [
    "def baseline_model():\n",
    "    # create model\n",
    "    model = Sequential()\n",
    "    model.add(Dense(100, input_dim=59, activation='relu'))\n",
    "    model.add(Dense(50, input_dim=100, activation='relu'))\n",
    "    model.add(Dense(4, activation='softmax'))\n",
    "    # Compile model\n",
    "    model.compile(loss='categorical_crossentropy', optimizer='adam', metrics=['accuracy'])\n",
    "    return model"
   ]
  },
  {
   "cell_type": "code",
   "execution_count": 15,
   "metadata": {
    "collapsed": false
   },
   "outputs": [
    {
     "name": "stdout",
     "output_type": "stream",
     "text": [
      "Reading dataset in dataset/\n",
      "Loading files train_bodies.csv, train_stances.csv\n",
      "Reading dataset in dataset/\n",
      "Loading files competition_test_bodies.csv, competition_test_stances.csv\n",
      "Reading dataset in dataset/\n",
      "Loading files train_bodies.csv, train_stances.csv\n",
      "Reading dataset in dataset/\n",
      "Loading files competition_test_bodies.csv, competition_test_stances.csv\n",
      "0\n",
      "1\n",
      "2\n",
      "3\n",
      "4\n",
      "5\n",
      "6\n",
      "7\n",
      "8\n",
      "9\n",
      "[3 3 3 ... 3 3 2]\n",
      "Score for fold 0 was - 0.796396175533219\n",
      "[3 3 3 ... 3 2 3]\n",
      "Score for fold 1 was - 0.784187735717279\n"
     ]
    }
   ],
   "source": [
    "d = DataSet(\"train\")\n",
    "folds,hold_out = kfold_split(d,n_folds=10)\n",
    "fold_stances, hold_out_stances = get_stances_for_folds(d,folds,hold_out)\n",
    "\n",
    "# Load the competition dataset\n",
    "competition_dataset = DataSet(\"competition_test\")\n",
    "X_competition, y_competition = generate_features(competition_dataset.data, \"competition\")\n",
    "\n",
    "training = DataSet()\n",
    "test = DataSet(name=\"competition_test\")\n",
    "Xs = dict()\n",
    "ys = dict()\n",
    "\n",
    "# Load/Precompute all features now\n",
    "X_holdout,y_holdout = generate_features(hold_out_stances,\"holdout\")\n",
    "for fold in fold_stances:\n",
    "    print(fold)\n",
    "    Xs[fold],ys[fold] = generate_features(fold_stances[fold],str(fold))\n",
    "\n",
    "best_score = 0\n",
    "best_fold = None\n",
    "\n",
    "encoder = LabelEncoder()\n",
    "# Classifier for each fold\n",
    "for fold in range(2):\n",
    "    ids = list(range(len(folds)))\n",
    "    del ids[fold]\n",
    "\n",
    "    X_train = np.vstack(tuple([Xs[i] for i in ids]))\n",
    "    y_train = np.hstack(tuple([ys[i] for i in ids]))\n",
    "\n",
    "    X_test = Xs[fold]\n",
    "    y_test = ys[fold]\n",
    "    \n",
    "    encoder.fit(y_train)\n",
    "    encoded_Y = encoder.transform(y_train)\n",
    "    dummy_y = np_utils.to_categorical(encoded_Y)\n",
    "\n",
    "    estimator = KerasClassifier(build_fn=baseline_model, epochs=100, batch_size=128, verbose=0)\n",
    "    estimator.fit(X_train,dummy_y)\n",
    "    print(estimator.predict(X_test))\n",
    "    predicted = [LABELS[int(a)] for a in estimator.predict(X_test)]\n",
    "    actual = [LABELS[int(a)] for a in y_test]\n",
    "\n",
    "    fold_score, _ = score_submission(actual, predicted)\n",
    "    max_fold_score, _ = score_submission(actual, actual)\n",
    "\n",
    "    score = fold_score/float(max_fold_score)\n",
    "\n",
    "    print(\"Score for fold \"+ str(fold) + \" was - \" + str(score))\n",
    "    if score > best_score:\n",
    "        best_score = score\n",
    "        best_fold = estimator"
   ]
  },
  {
   "cell_type": "code",
   "execution_count": 11,
   "metadata": {
    "collapsed": false
   },
   "outputs": [
    {
     "name": "stdout",
     "output_type": "stream",
     "text": [
      "Scores on the dev set\n",
      "-------------------------------------------------------------\n",
      "|           |   agree   | disagree  |  discuss  | unrelated |\n",
      "-------------------------------------------------------------\n",
      "|   agree   |    151    |    22     |    515    |    74     |\n",
      "-------------------------------------------------------------\n",
      "| disagree  |    17     |    20     |    108    |    17     |\n",
      "-------------------------------------------------------------\n",
      "|  discuss  |    184    |    49     |   1389    |    178    |\n",
      "-------------------------------------------------------------\n",
      "| unrelated |    23     |     3     |    206    |   6666    |\n",
      "-------------------------------------------------------------\n",
      "Score: 3450.25 out of 4448.5\t(77.55985163538271%)\n",
      "\n",
      "\n",
      "Scores on the test set\n",
      "-------------------------------------------------------------\n",
      "|           |   agree   | disagree  |  discuss  | unrelated |\n",
      "-------------------------------------------------------------\n",
      "|   agree   |    324    |    48     |   1282    |    249    |\n",
      "-------------------------------------------------------------\n",
      "| disagree  |    108    |    69     |    304    |    216    |\n",
      "-------------------------------------------------------------\n",
      "|  discuss  |    502    |    120    |   3259    |    583    |\n",
      "-------------------------------------------------------------\n",
      "| unrelated |    70     |    20     |    549    |   17710   |\n",
      "-------------------------------------------------------------\n",
      "Score: 8670.5 out of 11651.25\t(74.41690805707542%)\n"
     ]
    },
    {
     "data": {
      "text/plain": [
       "74.41690805707542"
      ]
     },
     "execution_count": 11,
     "metadata": {},
     "output_type": "execute_result"
    }
   ],
   "source": [
    "#Run on Holdout set and report the final score on the holdout set\n",
    "predicted = [LABELS[int(a)] for a in best_fold.predict(X_holdout)]\n",
    "actual = [LABELS[int(a)] for a in y_holdout]\n",
    "\n",
    "print(\"Scores on the dev set\")\n",
    "report_score(actual,predicted)\n",
    "print(\"\")\n",
    "print(\"\")\n",
    "\n",
    "#Run on competition dataset\n",
    "predicted = [LABELS[int(a)] for a in best_fold.predict(X_competition)]\n",
    "actual = [LABELS[int(a)] for a in y_competition]\n",
    "\n",
    "print(\"Scores on the test set\")\n",
    "report_score(actual,predicted)"
   ]
  },
  {
   "cell_type": "markdown",
   "metadata": {},
   "source": [
    "# Towards real stuff\n",
    "\n",
    "Let's try to check some real news data!  \n",
    "\n",
    "So you need a headline and a blob of text.\n",
    "\n",
    "Try out: https://www.bbc.com/"
   ]
  },
  {
   "cell_type": "code",
   "execution_count": 30,
   "metadata": {
    "collapsed": false
   },
   "outputs": [
    {
     "name": "stdout",
     "output_type": "stream",
     "text": [
      "                                            Headline  \\\n",
      "0  Trudeau fires Canada's ambassador to China ami...   \n",
      "1  Trudeau fires Canada's ambassador to China ami...   \n",
      "2  Michael Jackson doc Leaving Neverland is distu...   \n",
      "\n",
      "                                         articleBody Stance  \n",
      "0  It follows controversial comments Mr McCallum ...  agree  \n",
      "1  No matter how well you think you can park, Sta...  agree  \n",
      "2  Michael Jackson gave a young boy jewellery in ...  agree  \n",
      "[2 3 2]\n"
     ]
    }
   ],
   "source": [
    "#from utils.features import *\n",
    "entry1 = [\"Trudeau fires Canada's ambassador to China amid Huawei controversy\",\\\n",
    "          \"It follows controversial comments Mr McCallum made about an extradition case involving a senior executive from the Chinese telecoms giant Huawei.\\\n",
    "           Mr Trudeau said in a statement he had asked John McCallum to step down, but did not offer a reason.\\\n",
    "           The detention of Meng Wanzhou, at the request of the US, angered China and soured Canada's relations with Beijing.\\\n",
    "           Ms Meng, Huawei's chief financial officer, is accused by the US of evading sanctions on Iran. Both she and Huawei deny those allegations.\",\\\n",
    "          'agree']\n",
    "entry2 = [\"Trudeau fires Canada's ambassador to China amid Huawei controversy\",\\\n",
    "          \"No matter how well you think you can park, Stan can do it better. Don’t feel too disheartened though, he doesn’t even need to open the doors once stationary – meaning he can stack cars as close as possible to each other.\\\n",
    "            Stan isn’t some ghostly valet from a budget American horror film though, but a small forklift-style robot that will literally pick your car up and drop it into an ultra-tight space without even needing to see your keys.\\\n",
    "        Created by Stanley Robotics and set to be trialled at Gatwick Airport in August this year, the little droid will then use your flight numbers to ensure that your car is ready and waiting back at the drop-off/pick-up cabin on your return from holiday.\",\\\n",
    "          'agree']\n",
    "\n",
    "new_data = pd.DataFrame([entry1,entry2], columns=['Headline','articleBody','Stance'])\n",
    "print(new_data.head())\n",
    "\n",
    "X_new, y_new = generate_features(new_data, \"test21es\")\n",
    "\n",
    "print(best_fold.predict(X_new))"
   ]
  },
  {
   "cell_type": "code",
   "execution_count": null,
   "metadata": {
    "collapsed": true
   },
   "outputs": [],
   "source": []
  },
  {
   "cell_type": "code",
   "execution_count": null,
   "metadata": {
    "collapsed": true
   },
   "outputs": [],
   "source": []
  }
 ],
 "metadata": {
  "kernelspec": {
   "display_name": "Python 3",
   "language": "python",
   "name": "python3"
  },
  "language_info": {
   "codemirror_mode": {
    "name": "ipython",
    "version": 3
   },
   "file_extension": ".py",
   "mimetype": "text/x-python",
   "name": "python",
   "nbconvert_exporter": "python",
   "pygments_lexer": "ipython3",
   "version": "3.6.4"
  }
 },
 "nbformat": 4,
 "nbformat_minor": 0
}
